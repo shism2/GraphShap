{
 "cells": [
  {
   "cell_type": "code",
   "execution_count": 1,
   "metadata": {},
   "outputs": [],
   "source": [
    "import warnings\n",
    "warnings.filterwarnings(\"ignore\")"
   ]
  },
  {
   "cell_type": "code",
   "execution_count": 2,
   "metadata": {},
   "outputs": [],
   "source": [
    "import numpy as np\n",
    "import functools\n",
    "import matplotlib.pyplot as plt\n",
    "import networkx as nx\n",
    "import pickle\n",
    "import tensorflow as tf\n",
    "import scipy.sparse as sp\n",
    "import scipy\n",
    "from itertools import chain, combinations, product\n",
    "import pandas as pd\n",
    "import matplotlib.cm as cm\n",
    "from nilearn import plotting\n",
    "import nilearn\n",
    "from scipy.stats import pearsonr,spearmanr"
   ]
  },
  {
   "cell_type": "code",
   "execution_count": 3,
   "metadata": {},
   "outputs": [],
   "source": [
    "DATA_FOLDER = 'data/'"
   ]
  },
  {
   "cell_type": "code",
   "execution_count": 4,
   "metadata": {},
   "outputs": [],
   "source": [
    "# classification\n",
    "\n",
    "def sp_matrix_to_sp_tensor(M):\n",
    "    if not isinstance(M, sp.csr.csr_matrix):\n",
    "        M = M.tocsr()\n",
    "    row, col = M.nonzero()\n",
    "    batch = np.zeros(row.shape[0])\n",
    "    X = tf.SparseTensor(np.mat([batch, row, col]).T, M.data, (1,) + M.shape)\n",
    "    X = tf.cast(X, tf.float32)\n",
    "    return X\n",
    "\n",
    "def classify(model,masked_graph,nodes_per_graph):  \n",
    "    sparse_adj = sp_matrix_to_sp_tensor(nx.to_scipy_sparse_matrix(masked_graph))\n",
    "    fake_eye = tf.SparseTensor(np.mat([np.zeros(nodes_per_graph), np.arange(nodes_per_graph), \\\n",
    "                np.arange(nodes_per_graph)]).T, np.ones(nodes_per_graph, dtype=np.float32), \\\n",
    "                            (1,nodes_per_graph,nodes_per_graph))\n",
    "    raw = model([sparse_adj,fake_eye]).numpy()[0]\n",
    "    c1_prob = scipy.special.softmax(raw)[1]\n",
    "    return c1_prob\n",
    "\n",
    "def batch_classify(model,graphs,nodes_per_graph):\n",
    "    sparse_adj = tf.sparse.concat(0,[sp_matrix_to_sp_tensor(nx.to_scipy_sparse_matrix(g)) for g in graphs])\n",
    "    fake_eye = tf.SparseTensor(np.mat([np.zeros(nodes_per_graph), np.arange(nodes_per_graph), \\\n",
    "                np.arange(nodes_per_graph)]).T, np.ones(nodes_per_graph, dtype=np.float32), \\\n",
    "                            (1,nodes_per_graph,nodes_per_graph))\n",
    "    all_eye = tf.sparse.concat(0,[fake_eye for _ in graphs])\n",
    "    raw = model([sparse_adj,fake_eye]).numpy()\n",
    "    c1_prob = np.array([scipy.special.softmax(line)[1] for line in raw])\n",
    "    return c1_prob"
   ]
  },
  {
   "cell_type": "code",
   "execution_count": 5,
   "metadata": {},
   "outputs": [],
   "source": [
    "# masking\n",
    "\n",
    "def mask_motif_set(graph,motifs,mask_mode):\n",
    "    edges = set([a for b in [[tuple(sorted(e)) for e in m.edges] for m in motifs] for a in b])\n",
    "    if mask_mode == 'remove':\n",
    "        return remove_motifs(graph,edges)\n",
    "    if mask_mode == 'toggle':\n",
    "        return toggle_motifs(graph,edges)\n",
    "    if mask_mode == 'blur':\n",
    "        return blur_motifs(graph,edges)\n",
    "    else:\n",
    "        print('unknown mask mode')\n",
    "\n",
    "def remove_motifs(graph,edges):\n",
    "    tmp = graph.copy()\n",
    "    for (n1,n2) in edges:\n",
    "        if tmp.has_edge(n1,n2):\n",
    "            tmp.remove_edge(n1,n2)\n",
    "    return tmp\n",
    "\n",
    "def toggle_motifs(graph,edges):\n",
    "    tmp = graph.copy()\n",
    "    for (n1,n2) in edges:\n",
    "        if tmp.has_edge(n1,n2):\n",
    "            tmp.remove_edge(n1,n2)\n",
    "        else:\n",
    "            tmp.add_edge(n1,n2)\n",
    "    return tmp\n",
    "\n",
    "def blur_motifs(graph,edges):\n",
    "    tmp = graph.copy()\n",
    "    for (n1,n2) in edges:\n",
    "        tmp.add_edge(n1,n2)\n",
    "        tmp[n1][n2]['weight'] = avg_graph_density\n",
    "    return tmp"
   ]
  },
  {
   "cell_type": "code",
   "execution_count": 6,
   "metadata": {},
   "outputs": [],
   "source": [
    "# lattice\n",
    "\n",
    "def powerset(iterable):\n",
    "    \"powerset([1,2,3]) --> () (1,) (2,) (3,) (1,2) (1,3) (2,3) (1,2,3)\"\n",
    "    s = list(iterable)\n",
    "    return list(chain.from_iterable(combinations(s, r) for r in range(len(s)+1)))\n",
    "\n",
    "def pascaline(n):\n",
    "    \"pascaline(5) -> [1, 4, 6, 4, 1]\"\n",
    "    n -= 1\n",
    "    line = [1]\n",
    "    for k in range(max(n,0)):             \n",
    "        line.append(line[k]*(n-k)//(k+1))             \n",
    "    return line\n",
    "\n",
    "def build_lattice(bbox,datapoint,nodes_per_graph,motifs,mask_mode):\n",
    "    lattice_nodes = {}\n",
    "    for team in powerset(enumerate(motifs)):\n",
    "        indxs = tuple(indx for (indx,m) in team)\n",
    "        motifs_team = [m for (indx,m) in team]\n",
    "        masked_graph = mask_motif_set(datapoint,motifs_team,mask_mode)\n",
    "        outp = classify(bbox,masked_graph,nodes_per_graph)\n",
    "        local_dict = {'motifs':motifs_team,'masked':masked_graph,'outp':outp}\n",
    "        lattice_nodes[indxs] = local_dict\n",
    "    return lattice_nodes\n",
    "\n",
    "def batch_build_lattice(bbox,graphs,nodes_per_graph,motifs,mask_mode):\n",
    "    lattice_nodes = {}\n",
    "    tmp_len = 0\n",
    "    for team in powerset(enumerate(motifs)):\n",
    "        if len(team)>tmp_len:\n",
    "            print(len(team),end=' ')\n",
    "            tmp_len+=1\n",
    "        indxs = tuple(indx for (indx,m) in team)\n",
    "        motifs_team = [m for (indx,m) in team]\n",
    "        masked_graphs = [mask_motif_set(g,motifs_team,mask_mode) for g in graphs]\n",
    "        outp = batch_classify(bbox,masked_graphs,nodes_per_graph)\n",
    "        lattice_nodes[indxs] = outp\n",
    "    print()\n",
    "    return lattice_nodes"
   ]
  },
  {
   "cell_type": "code",
   "execution_count": 7,
   "metadata": {},
   "outputs": [],
   "source": [
    "# shapley\n",
    "\n",
    "def get_shapley_values(lattice,motifs):\n",
    "    shap_dict = {}\n",
    "    for indx,motif in enumerate(motifs):\n",
    "        mnope = powerset([x for x in range(len(motifs)) if x!=indx])\n",
    "        mwith = [tuple(sorted([*team,indx])) for team in mnope]\n",
    "        raw_shapley = [lattice[mno]['outp']-lattice[myes]['outp'] for mno,myes in list(zip(mnope,mwith))]\n",
    "        pascal = pascaline(len(motifs))\n",
    "        coef = [1./len(motifs)/pascal[len(key)] for key in mnope]\n",
    "        shapley = np.dot(coef,raw_shapley)\n",
    "        shap_dict[indx] = shapley\n",
    "    return shap_dict\n",
    "\n",
    "def batch_get_shapley_values(lattice,motifs):\n",
    "    shap_dict = {}\n",
    "    for indx,motif in enumerate(motifs):\n",
    "        mnope = powerset([x for x in range(len(motifs)) if x!=indx])\n",
    "        mwith = [tuple(sorted([*team,indx])) for team in mnope]\n",
    "        diff = [lattice[mno]-lattice[myes] for mno,myes in list(zip(mnope,mwith))]\n",
    "        pascal = pascaline(len(motifs))\n",
    "        coef = [1./len(motifs)/pascal[len(key)] for key in mnope]\n",
    "        shap_weighted_margins = [c*sh for c,sh in zip(coef,diff)]\n",
    "        shap_values = np.sum(np.array(shap_weighted_margins),axis=0)\n",
    "        shap_dict[indx] = shap_values\n",
    "    return shap_dict"
   ]
  },
  {
   "cell_type": "code",
   "execution_count": 8,
   "metadata": {},
   "outputs": [],
   "source": [
    "# motif utils\n",
    "\n",
    "def make_motif_names(info):\n",
    "    initials = info[::2]\n",
    "    counts = info[1::2]\n",
    "    return [a for b in [[init+str(i) for i in range(count)] for init,count in zip(initials,counts)] for a in b]\n",
    "\n",
    "def edgelist_to_nx(edgelists):\n",
    "    motifs = []\n",
    "    for edgelist in edgelists:\n",
    "        tmp = nx.empty_graph()\n",
    "        for (n1,n2) in edgelist:\n",
    "            tmp.add_edge(n1,n2)\n",
    "        motifs.append(tmp)\n",
    "    return motifs\n",
    "\n",
    "def subgraph_status(big,small):\n",
    "    matches = [e in big.edges for e in small.edges]\n",
    "    if all(matches):\n",
    "        return 'OK'\n",
    "    elif all(np.logical_not(matches)):\n",
    "        return 'KO'\n",
    "    else:\n",
    "        return '??'\n",
    "    \n",
    "def contains_motif(graph,motif):\n",
    "    occurring = [e in graph.edges for e in motif.edges]\n",
    "    return 'completely occurring' if all(occurring) else 'not occurring' \\\n",
    "            if all(np.logical_not(occurring)) else 'partially occurring'"
   ]
  },
  {
   "cell_type": "code",
   "execution_count": 9,
   "metadata": {},
   "outputs": [],
   "source": [
    "# plotting\n",
    "\n",
    "def violin_plot(ax, shaps, widths=0.2):\n",
    "    nmotifs = len(shaps)\n",
    "    labels = []\n",
    "    max_shap = max([abs(a) for b in list(shaps.values()) for a in b])\n",
    "    positions = range(6)\n",
    "    c0_data = [shaps[i][:100] for i in list(shaps.keys())]\n",
    "    return ax.violinplot(c0_data, list(shaps.keys()), widths=widths)\n",
    "\n",
    "def plot_correlation(expected_shap,tables):  \n",
    "    gshap_modes = tables.keys()\n",
    "    fig, axs = plt.subplots(3,1,sharex=True, figsize=(4.5, 4.5))\n",
    "    plt.tight_layout(pad=0.1)\n",
    "    for i, mode in enumerate(gshap_modes):\n",
    "        cor = spearmanr(tables[mode].flatten(), expected_shap.flatten())\n",
    "        ax = axs.flatten()[i]\n",
    "        df = pd.DataFrame({\"expected\": expected_shap.flatten(), \n",
    "                           \"graphshap\": tables[mode].flatten()}).set_index('expected')\n",
    "        violin_data = {}\n",
    "        for k, g in df.groupby('expected'):\n",
    "            violin_data[k] = g['graphshap'].values\n",
    "        v = violin_plot(ax, violin_data, widths=0.15)\n",
    "        v['cmaxes'].set_linewidth(0.5)\n",
    "        v['cmins'].set_linewidth(0.5)\n",
    "        v['cbars'].set_linewidth(0.5)\n",
    "        for b in v:\n",
    "            pass\n",
    "        [i.set_linewidth(0.5) for i in ax.spines.values()]\n",
    "        ax.set_ylim(-0.32, 0.32)\n",
    "        ax.text(-1.1, 0.2, f\"{mode.replace('blur','average')} (Spearman: {cor.correlation:.2f})\")\n",
    "        if i==2:\n",
    "            ax.set_xlabel('Expected explanation score')\n",
    "        if i==1:\n",
    "            ax.set_ylabel('Distribution of explanation scores')\n",
    "    fig.suptitle('')"
   ]
  },
  {
   "cell_type": "code",
   "execution_count": 10,
   "metadata": {},
   "outputs": [],
   "source": [
    "EXP_NAME = 'exp62'"
   ]
  },
  {
   "cell_type": "code",
   "execution_count": 11,
   "metadata": {},
   "outputs": [
    {
     "name": "stdout",
     "output_type": "stream",
     "text": [
      "bbox: 191 over 200\n"
     ]
    }
   ],
   "source": [
    "graphs_0 = pickle.load(open(DATA_FOLDER+'synth_'+EXP_NAME+'_0','rb'))\n",
    "graphs_1 = pickle.load(open(DATA_FOLDER+'synth_'+EXP_NAME+'_1','rb'))\n",
    "graphs = graphs_0+graphs_1\n",
    "assert len(set([len(g) for g in graphs])) == 1\n",
    "nodes_per_graph = len(graphs[0])\n",
    "assert len(graphs_0)==len(graphs_1)\n",
    "graphs_per_class = len(graphs_0)\n",
    "avg_graph_density = np.mean([len(g.edges)/(nodes_per_graph*nodes_per_graph) for g in graphs])\n",
    "labels = [0]*len(graphs_0)+[1]*len(graphs_1)\n",
    "#\n",
    "mined = []\n",
    "injected = pickle.load(open(DATA_FOLDER+'injected_'+EXP_NAME,'rb'))\n",
    "random = []\n",
    "motif_names = make_motif_names(['I',len(injected)])\n",
    "#\n",
    "bbox = tf.keras.models.load_model(DATA_FOLDER+'gcnn_'+'synth_'+EXP_NAME)\n",
    "print('bbox:',sum((batch_classify(bbox,graphs,nodes_per_graph)>.5)==labels),'over',len(labels))"
   ]
  },
  {
   "cell_type": "code",
   "execution_count": 12,
   "metadata": {},
   "outputs": [
    {
     "name": "stdout",
     "output_type": "stream",
     "text": [
      "1 2 3 4 5 6 \n",
      "CPU times: user 4min 30s, sys: 1.64 s, total: 4min 31s\n",
      "Wall time: 1min 31s\n"
     ]
    }
   ],
   "source": [
    "%%time\n",
    "global_lattice_remove = batch_build_lattice(bbox,graphs,nodes_per_graph,injected,mask_mode='remove')\n",
    "global_shaps_remove = batch_get_shapley_values(global_lattice_remove,injected)"
   ]
  },
  {
   "cell_type": "code",
   "execution_count": 13,
   "metadata": {},
   "outputs": [
    {
     "data": {
      "text/html": [
       "<div>\n",
       "<style scoped>\n",
       "    .dataframe tbody tr th:only-of-type {\n",
       "        vertical-align: middle;\n",
       "    }\n",
       "\n",
       "    .dataframe tbody tr th {\n",
       "        vertical-align: top;\n",
       "    }\n",
       "\n",
       "    .dataframe thead th {\n",
       "        text-align: right;\n",
       "    }\n",
       "</style>\n",
       "<table border=\"1\" class=\"dataframe\">\n",
       "  <thead>\n",
       "    <tr style=\"text-align: right;\">\n",
       "      <th></th>\n",
       "      <th>M0</th>\n",
       "      <th>M1</th>\n",
       "      <th>M2</th>\n",
       "      <th>M3</th>\n",
       "      <th>M4</th>\n",
       "      <th>M5</th>\n",
       "    </tr>\n",
       "  </thead>\n",
       "  <tbody>\n",
       "    <tr>\n",
       "      <th>Perturbation_probability</th>\n",
       "      <td>0.000000</td>\n",
       "      <td>0.200000</td>\n",
       "      <td>0.400000</td>\n",
       "      <td>0.600000</td>\n",
       "      <td>0.800000</td>\n",
       "      <td>1.000000</td>\n",
       "    </tr>\n",
       "    <tr>\n",
       "      <th>Average_explanation_score</th>\n",
       "      <td>-0.005767</td>\n",
       "      <td>0.014019</td>\n",
       "      <td>-0.031241</td>\n",
       "      <td>0.066047</td>\n",
       "      <td>-0.067394</td>\n",
       "      <td>0.095368</td>\n",
       "    </tr>\n",
       "  </tbody>\n",
       "</table>\n",
       "</div>"
      ],
      "text/plain": [
       "                                 M0        M1        M2        M3        M4  \\\n",
       "Perturbation_probability   0.000000  0.200000  0.400000  0.600000  0.800000   \n",
       "Average_explanation_score -0.005767  0.014019 -0.031241  0.066047 -0.067394   \n",
       "\n",
       "                                 M5  \n",
       "Perturbation_probability   1.000000  \n",
       "Average_explanation_score  0.095368  "
      ]
     },
     "execution_count": 13,
     "metadata": {},
     "output_type": "execute_result"
    }
   ],
   "source": [
    "table1 = np.array([[prob,np.mean(global_shaps_remove[indx])] for indx,prob in enumerate([0,.2,.4,.6,.8,1])])\n",
    "pd.DataFrame(table1.T,index=['Perturbation_probability','Average_explanation_score'],\\\n",
    "             columns=['M'+str(i) for i in range(6)])"
   ]
  },
  {
   "cell_type": "code",
   "execution_count": 14,
   "metadata": {},
   "outputs": [
    {
     "name": "stdout",
     "output_type": "stream",
     "text": [
      "1 2 3 4 5 6 \n",
      "1 2 3 4 5 6 \n",
      "1 2 3 4 5 6 \n",
      "CPU times: user 13min 42s, sys: 4.4 s, total: 13min 47s\n",
      "Wall time: 4min 38s\n"
     ]
    }
   ],
   "source": [
    "%%time\n",
    "#\n",
    "global_lattice_remove = batch_build_lattice(bbox,graphs,nodes_per_graph,injected,mask_mode='remove')\n",
    "global_shaps_remove = batch_get_shapley_values(global_lattice_remove,injected)\n",
    "#\n",
    "global_lattice_toggle = batch_build_lattice(bbox,graphs,nodes_per_graph,injected,mask_mode='toggle')\n",
    "global_shaps_toggle = batch_get_shapley_values(global_lattice_toggle,injected)\n",
    "#\n",
    "global_lattice_blur = batch_build_lattice(bbox,graphs,nodes_per_graph,injected,mask_mode='blur')\n",
    "global_shaps_blur = batch_get_shapley_values(global_lattice_blur,injected)"
   ]
  },
  {
   "cell_type": "code",
   "execution_count": 15,
   "metadata": {},
   "outputs": [],
   "source": [
    "def get_correlation_data(graphs,motifs,global_shaps_remove,global_shaps_blur,global_shaps_toggle):\n",
    "    forced_motifs = []\n",
    "    for indx,g in enumerate(graphs):\n",
    "        forced_motifs.append([subgraph_status(g,m) for m in motifs])\n",
    "    forced_motifs = np.array(forced_motifs)\n",
    "    forced_motifs_val = np.zeros(forced_motifs.shape)\n",
    "    forced_motifs_val += (forced_motifs == 'OK')\n",
    "    forced_motifs_val -= (forced_motifs == 'KO')\n",
    "    #\n",
    "    target = [-1]*graphs_per_class + [1]*graphs_per_class\n",
    "    prob = np.array([[0,.2,.4,.6,.8,1]]*(graphs_per_class*2))\n",
    "    motif_class = np.array([[-1,1,-1,1,-1,1]]*(graphs_per_class*2))\n",
    "    expected_shap = (forced_motifs_val*prob*motif_class)\n",
    "    #\n",
    "    shap_table_remove = np.stack([global_shaps_remove[mi] for mi in range(6)]).T\n",
    "    shap_table_blur = np.stack([global_shaps_blur[mi] for mi in range(6)]).T\n",
    "    shap_table_toggle = np.stack([global_shaps_toggle[mi] for mi in range(6)]).T\n",
    "    tables = dict(zip(['remove', 'blur', 'toggle'],[shap_table_remove,shap_table_blur,shap_table_toggle]))\n",
    "    #\n",
    "    return expected_shap,tables"
   ]
  },
  {
   "cell_type": "code",
   "execution_count": 16,
   "metadata": {},
   "outputs": [],
   "source": [
    "expected_shap,tables = get_correlation_data(graphs,injected,\\\n",
    "                                            global_shaps_remove,global_shaps_blur,global_shaps_toggle)"
   ]
  },
  {
   "cell_type": "markdown",
   "metadata": {},
   "source": [
    "# Figure 5"
   ]
  },
  {
   "cell_type": "code",
   "execution_count": 17,
   "metadata": {},
   "outputs": [
    {
     "data": {
      "image/png": "[encoded data removed]",
      "text/plain": [
       "<Figure size 324x324 with 3 Axes>"
      ]
     },
     "metadata": {
      "needs_background": "light"
     },
     "output_type": "display_data"
    }
   ],
   "source": [
    "plot_correlation(expected_shap,tables)"
   ]
  },
  {
   "cell_type": "code",
   "execution_count": 4,
   "metadata": {},
   "outputs": [],
   "source": [
    "exp_names = ['no_corr','pair_weak','pair_strong','triplet_weak','triplet_strong']\n",
    "#\n",
    "experiments = {}\n",
    "for EXP_NAME in exp_names:\n",
    "    experiments[EXP_NAME] = pickle.load(open(DATA_FOLDER+EXP_NAME,'rb'))"
   ]
  },
  {
   "cell_type": "code",
   "execution_count": 5,
   "metadata": {},
   "outputs": [],
   "source": [
    "def nrm(x):\n",
    "    x1 = x-min(x)\n",
    "    x2 = x1/max(x1)\n",
    "    return x2"
   ]
  },
  {
   "cell_type": "code",
   "execution_count": 6,
   "metadata": {},
   "outputs": [],
   "source": [
    "def crunch_layered_sum(exp_name, fcomparison):\n",
    "    res = []\n",
    "    num_motifs = experiments[exp_name]['shaps_tensor'].shape[1]\n",
    "    num_graphs = experiments[exp_name]['shaps_tensor'].shape[2]\n",
    "    depths = [min(sum(x),num_motifs-1-sum(x)) for x in list(product([0, 1], repeat=num_motifs-1))]\n",
    "    coeff = experiments[exp_name]['coef']\n",
    "    raw = experiments[exp_name]['shaps_tensor']\n",
    "    composed_total = np.multiply(raw,np.array(coeff)[:, np.newaxis, np.newaxis])\n",
    "    compressed_total = np.sum(composed_total,axis=0)\n",
    "    for depth in range(max(depths)+1):\n",
    "        mask = (np.array(depths)<=depth).astype(int)\n",
    "        composed_masked = np.multiply(composed_total,np.array(mask)[:, np.newaxis, np.newaxis])\n",
    "        compressed_masked = np.sum(composed_masked,axis=0)\n",
    "        rank_cfr = [fcomparison(nrm(compressed_masked[:,indx]),nrm(compressed_total[:,indx])) \\\n",
    "                    for indx in range(num_graphs)]\n",
    "        res.append(rank_cfr)\n",
    "    return res"
   ]
  },
  {
   "cell_type": "code",
   "execution_count": 7,
   "metadata": {},
   "outputs": [],
   "source": [
    "fcomparison = lambda x,y:pearsonr(x,y)[0]\n",
    "data = {x:crunch_layered_sum(x, fcomparison) for x in exp_names}"
   ]
  },
  {
   "cell_type": "code",
   "execution_count": 8,
   "metadata": {},
   "outputs": [],
   "source": [
    "def plot_boxplots(data,exp_names):\n",
    "    plt.figure(figsize=(10,3))\n",
    "    for exp_index,exp_name in enumerate(exp_names):\n",
    "        for depth in range(4):\n",
    "            ax = plt.gca()\n",
    "            ax.spines['top'].set_visible(False)\n",
    "            ax.spines['bottom'].set_visible(False)\n",
    "            ax.spines['left'].set_visible(False)\n",
    "            ax.spines['right'].set_visible(False)\n",
    "            ax.set_facecolor('whitesmoke')\n",
    "            plt.subplot(1,4,depth+1)\n",
    "            c = ['orangered','limegreen','dodgerblue'][exp_index]\n",
    "            for k in [.9,.92,.94,.96,.98,1]:\n",
    "                plt.axhline(k,color='white',linewidth=.5,zorder=0)\n",
    "            plt.boxplot(data[exp_name][depth],positions=[exp_index],\\\n",
    "                        showfliers=False,widths=[.8],patch_artist=True,\n",
    "                        boxprops=dict(facecolor='whitesmoke', color=c),whiskerprops=dict(color=c),\n",
    "                        capprops=dict(color=c),medianprops=dict(color=c))\n",
    "            plt.ylim(bottom=.9,top=1.01)\n",
    "            plt.title('depth-'+str(depth+1))\n",
    "            if depth>0:\n",
    "                plt.yticks([])\n",
    "            plt.xticks([],[])\n",
    "    plt.subplot(1,4,1)\n",
    "    plt.ylabel('Pearson correlation')\n",
    "    plt.tight_layout()"
   ]
  },
  {
   "cell_type": "markdown",
   "metadata": {},
   "source": [
    "# Figure 6"
   ]
  },
  {
   "cell_type": "code",
   "execution_count": 9,
   "metadata": {},
   "outputs": [
    {
     "data": {
      "image/png": "[encoded data removed]",
      "text/plain": [
       "<Figure size 720x216 with 4 Axes>"
      ]
     },
     "metadata": {
      "needs_background": "light"
     },
     "output_type": "display_data"
    }
   ],
   "source": [
    "plot_boxplots(data,['no_corr','pair_weak','pair_strong'])"
   ]
  },
  {
   "cell_type": "code",
   "execution_count": 10,
   "metadata": {},
   "outputs": [
    {
     "data": {
      "image/png": "[encoded data removed]",
      "text/plain": [
       "<Figure size 720x216 with 4 Axes>"
      ]
     },
     "metadata": {
      "needs_background": "light"
     },
     "output_type": "display_data"
    }
   ],
   "source": [
    "plot_boxplots(data,['no_corr','triplet_weak','triplet_strong'])"
   ]
  }
 ],
 "metadata": {
  "kernelspec": {
   "display_name": "Python 3",
   "language": "python",
   "name": "python3"
  },
  "language_info": {
   "codemirror_mode": {
    "name": "ipython",
    "version": 3
   },
   "file_extension": ".py",
   "mimetype": "text/x-python",
   "name": "python",
   "nbconvert_exporter": "python",
   "pygments_lexer": "ipython3",
   "version": "3.8.8"
  }
 },
 "nbformat": 4,
 "nbformat_minor": 4
}
